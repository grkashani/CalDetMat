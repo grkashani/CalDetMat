{
  "nbformat": 4,
  "nbformat_minor": 0,
  "metadata": {
    "colab": {
      "name": "setup_ssh.ipynb",
      "version": "0.3.2",
      "provenance": [],
      "collapsed_sections": [],
      "include_colab_link": true
    },
    "kernelspec": {
      "name": "python3",
      "display_name": "Python 3"
    }
  },
  "cells": [
    {
      "cell_type": "markdown",
      "metadata": {
        "id": "view-in-github",
        "colab_type": "text"
      },
      "source": [
        "<a href=\"https://colab.research.google.com/github/grkashani/CalDetMat/blob/master/setup_ssh.ipynb\" target=\"_parent\"><img src=\"https://colab.research.google.com/assets/colab-badge.svg\" alt=\"Open In Colab\"/></a>"
      ]
    },
    {
      "metadata": {
        "id": "ML-Rs72-15hd",
        "colab_type": "code",
        "colab": {}
      },
      "cell_type": "code",
      "source": [
        "!ssh-keygen -t rsa -b 4096 -C \"grkashani@gmail.com\""
      ],
      "execution_count": 0,
      "outputs": []
    },
    {
      "metadata": {
        "id": "y1xsqOB93zJf",
        "colab_type": "code",
        "colab": {}
      },
      "cell_type": "code",
      "source": [
        "!ls /root/.ssh\n",
        "from google.colab import drive\n",
        "drive.mount('/content/gdrive')\n"
      ],
      "execution_count": 0,
      "outputs": []
    },
    {
      "metadata": {
        "id": "vhBz0G5T4AHU",
        "colab_type": "code",
        "colab": {}
      },
      "cell_type": "code",
      "source": [
        "!ls \"/content/gdrive/My Drive/Colab Notebooks/Backup\""
      ],
      "execution_count": 0,
      "outputs": []
    },
    {
      "metadata": {
        "id": "AuHJaoIIrCEk",
        "colab_type": "code",
        "colab": {}
      },
      "cell_type": "code",
      "source": [
        "# # !mkdir /root/.ssh\n",
        "# from google.colab import drive\n",
        "# drive.mount('/content/gdrive')\n",
        "# # !cp /content/gdrive/My\\ Drive/Colab\\ Notebooks/ssh_files/*.* /root/.\n",
        "# # !ls /content/gdrive/My\\ Drive/Colab\\ Notebooks/\n",
        "# # !cp -r /root/.ssh/.* /content/gdrive/My\\ Drive/\n",
        "# # !cp /root/.ssh/id_rsa.pub /content/gdrive/My\\ Drive/Colab\\Test-01\n",
        "# # !ls /content/gdrive/My\\ Drive/Colab\\ Notebooks/Test-01/id*\n",
        "# !cp /content/gdrive/My\\ Drive/id_rsa.pub /root/.ssh/\n"
      ],
      "execution_count": 0,
      "outputs": []
    },
    {
      "metadata": {
        "id": "qudLst1N5itm",
        "colab_type": "code",
        "outputId": "ec3e3e77-bbdd-43f9-88fc-96bd74bb4e66",
        "colab": {
          "base_uri": "https://localhost:8080/",
          "height": 54
        }
      },
      "cell_type": "code",
      "source": [
        "!cp -rf /root/. \"/content/gdrive/My Drive/Colab Notebooks/Backup\""
      ],
      "execution_count": 0,
      "outputs": [
        {
          "output_type": "stream",
          "text": [
            "cp: cannot create special file '/content/gdrive/My Drive/Colab Notebooks/Backup/./.forever/sock/worker.1552913363013ypY.sock': Function not implemented\n"
          ],
          "name": "stdout"
        }
      ]
    }
  ]
}